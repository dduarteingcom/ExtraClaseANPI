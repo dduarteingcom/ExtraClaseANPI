{
 "cells": [
  {
   "cell_type": "markdown",
   "id": "b2ac68f8-6076-43e1-a1ca-adc052b4335d",
   "metadata": {
    "kernel": "SoS"
   },
   "source": [
    "# Ejercicios Extraclase Avance 2\n",
    "------------------------------------------------------------\n",
    "### Estudiantes:\n",
    "\n",
    "- #### Ana Melissa Vásquez Rojas \n",
    "- #### Daniel Duarte Cordero "
   ]
  },
  {
   "cell_type": "markdown",
   "id": "6c3a2b60-45d9-47a3-9199-fadc40b96f57",
   "metadata": {
    "kernel": "SoS"
   },
   "source": [
    "## Pregunta 1\n",
    "\n",
    "Determina si una matriz cuadrada $A ∈ ℝ^{m×m}$  tiene una única factorización LU.\n",
    "\n",
    "Basado en el teorema: Una matriz cuadrada A tiene una única factorización LU si y solo si \n",
    "todas sus submatrices principales $A_{1:k,1:k}$ son invertibles si y solo si\n",
    "rango $(A_{1:k,1:k}) = k$ para todo $k = 1,...,m$\n",
    "\n",
    "Parámetros:\n",
    "- `A`: Matriz cuadrada $ m \\times m $.\n",
    "\n",
    "Retorna:\n",
    "\n",
    "- `tf=1` si \\( A \\) tiene una única factorización LU.  \n",
    "- `tf=0` si no la tiene.\n",
    "\n"
   ]
  },
  {
   "cell_type": "code",
   "execution_count": 53,
   "id": "b7076d2a-2ecb-4362-94b3-60e0326b0db4",
   "metadata": {
    "kernel": "Python 3 (ipykernel)"
   },
   "outputs": [
    {
     "name": "stdout",
     "output_type": "stream",
     "text": [
      "A1 tiene LU única: tf= 1\n",
      "A2 tiene LU única: tf= 0\n"
     ]
    }
   ],
   "source": [
    "\n",
    "import numpy as np\n",
    "\n",
    "def tieneUnicaFactLU(A):\n",
    "\n",
    "    A = np.array(A)\n",
    "    m, n = A.shape\n",
    "\n",
    "    # Verificar que A sea cuadrada\n",
    "    if m != n:\n",
    "        return 0\n",
    "\n",
    "    # Verificación del rango de la matriz principal\n",
    "    if np.linalg.matrix_rank(A) != m:\n",
    "        return 0  # La matriz tiene rango diferente de m, entonces no hay LU única\n",
    "    else:\n",
    "        return 1  # Sí tiene una única factorización LU\n",
    "    \n",
    "# Caso 1: matriz con LU única\n",
    "A1 = np.array([\n",
    "    [2, 1, 1, 0, 0],\n",
    "    [4, 3, 3, 1, 0],\n",
    "    [8, 7, 9, 5, 1],\n",
    "    [6, 7, 9, 8, 4],\n",
    "    [2, 2, 3, 4, 7]\n",
    "])\n",
    "\n",
    "# Caso 2: matriz sin LU única (submatrices principales no invertibles)\n",
    "A2 = np.array([\n",
    "    [1, 2, 3, 4, 5],\n",
    "    [2, 4, 6, 8, 10],\n",
    "    [1, 1, 1, 1, 1],\n",
    "    [3, 6, 9, 12, 15],\n",
    "    [0, 0, 0, 0, 0]\n",
    "])\n",
    "\n",
    "print(\"A1 tiene LU única:\", \"tf=\", tieneUnicaFactLU(A1))  # 1\n",
    "print(\"A2 tiene LU única:\", \"tf=\",tieneUnicaFactLU(A2))  # 0\n",
    "\n"
   ]
  },
  {
   "cell_type": "markdown",
   "id": "0ee74189-a263-49db-9dbd-cf12f6e84114",
   "metadata": {
    "kernel": "SoS"
   },
   "source": [
    "## Pregunta 3\n",
    "\n",
    "Implementa la factorización $QR$ de una matriz cuadrada $ A \\in \\mathbb{R}^{m \\times m} $ utilizando el proceso de ortogonalización de Gram-Schmidt.\n",
    "\n",
    "### Fundamento teórico\n",
    "\n",
    "La factorización $ QR $ permite expresar cualquier matriz cuadrada $ A $ como el producto:\n",
    "\n",
    "$A = QR$\n",
    "\n",
    "- $ Q \\in \\mathbb{R}^{m \\times m} $ es una matriz ortogonal, es decir, $ Q^T Q = Q Q^T= Im $,\n",
    "- $ R \\in \\mathbb{R}^{m \\times m} $ es una matriz triangular superior.\n",
    "\n",
    "Esta descomposición se obtiene mediante el proceso de Gram-Schmidt:\n",
    "\n",
    "$\n",
    "\\begin{align*}\n",
    "u_1 &= a_1, \\\\\n",
    "e_1 &= \\frac{u_1}{\\|u_1\\|_2}, \\\\\n",
    "u_k &= a_k - \\sum_{j=1}^{k-1} \\langle a_k, e_j \\rangle e_j, \\\\\n",
    "e_k &= \\frac{u_k}{\\|u_k\\|_2}, \\quad \\text{para } k = 2, 3, ..., m.\n",
    "\\end{align*}\n",
    "$\n",
    "\n",
    "### Parámetros\n",
    "\n",
    "- `A`: Matriz cuadrada $ m \\times m $.\n",
    "\n",
    "### Retorna\n",
    "\n",
    "- `Q`: Matriz ortogonal $ Q $.\n",
    "- `R`: Matriz triangular superior $ R $.\n"
   ]
  },
  {
   "cell_type": "code",
   "execution_count": 61,
   "id": "864de824-e7b9-4473-b16b-f7359461eda0",
   "metadata": {
    "kernel": "SoS"
   },
   "outputs": [
    {
     "name": "stdout",
     "output_type": "stream",
     "text": [
      "Q= [[ 0.  0.  0.  1. -0. -0. -0.  0. -0. -1.]\n",
      " [-0.  0.  0. -0.  0. -0. -0. -0. -1.  0.]\n",
      " [ 0. -0.  1.  0. -0.  0. -0.  0.  0.  1.]\n",
      " [ 0.  0. -1.  1.  0. -0. -0. -0. -0.  0.]\n",
      " [-0.  0.  0.  0.  1.  0.  0.  0.  0.  0.]\n",
      " [ 0.  0. -0. -0. -0.  1. -0. -0. -0.  0.]\n",
      " [-0.  0.  0.  0. -0. -0.  1. -0.  0.  0.]\n",
      " [ 0.  0.  0. -0. -0. -0. -0.  1.  0.  0.]\n",
      " [-0.  0. -0.  0. -0.  0. -1.  0.  0.  0.]\n",
      " [ 1.  0.  0. -0. -0. -0. -0. -1.  0. -0.]]\n",
      "R= [[ 20. -19.  17. -20.  20. -20.  16.  -8.  -4.  19.]\n",
      " [  0.   6.  -0.   1.   3.   0.   5.  -2.  10.   1.]\n",
      " [  0.   0.   4.  -5.  10. -13.  16. -17.  18.   6.]\n",
      " [  0.   0.   0.   6.  -7.   6.  -4.   2.   1.   4.]\n",
      " [  0.   0.   0.   0.   9.  -9.   5. -10.   3.  -1.]\n",
      " [  0.   0.   0.   0.   0.   9. -12.   6. -11.   2.]\n",
      " [  0.   0.   0.   0.   0.   0.  11. -14.  -2.  -9.]\n",
      " [  0.   0.   0.   0.   0.   0.   0.  15. -14.  -4.]\n",
      " [  0.   0.   0.   0.   0.   0.   0.   0.   7. -15.]\n",
      " [  0.   0.   0.   0.   0.   0.   0.   0.   0.   8.]]\n"
     ]
    }
   ],
   "source": [
    "import numpy as np\n",
    "\n",
    "def fact_qr(A):\n",
    "    A = np.array(A, dtype=float)\n",
    "    m, n = A.shape\n",
    "    Q = np.zeros((m, n))  \n",
    "    R = np.zeros((n, n))\n",
    "\n",
    "    for k in range(n):\n",
    "        ak = A[:, k]       # Paso 1: tomar columna ak\n",
    "        uk = ak.copy()     # Inicializar uk como ak\n",
    "\n",
    "        aux = np.zeros(m)\n",
    "        for j in range(k):\n",
    "            ej = Q[:, j]                        # Paso 2: ej \n",
    "            R[j, k] = ak @ ej                 # producto punto <ak, ek>\n",
    "            aux += R[j, k] * ej                  # Sumatoria\n",
    "        uk = ak - aux\n",
    "        \n",
    "        R[k, k] = np.linalg.norm(uk)            # Paso 3: ||uk||\n",
    "        if R[k, k] == 0:\n",
    "            raise ValueError(\"Columna linealmente dependiente detectada\")\n",
    "\n",
    "        ek = uk / R[k, k]                       # Paso 4: ek = uk / ||uk||\n",
    "        Q[:, k] = ek\n",
    "\n",
    "    return Q, R\n",
    "\n",
    "\n",
    "\n",
    "    \n",
    "A = A = [\n",
    "    [  2, -1,  3,  0,  1, -2,  4, -3,  5,   6],\n",
    "    [ -3,  5, -2,  1,  4, -6,  7, -8,  9,  10],\n",
    "    [  1, -2,  4, -3,  5, -7,  8, -9, 10,  11],\n",
    "    [  4, -3,  1,  2, -5,  6, -7,  8, -9,  10],\n",
    "    [ -5,  7, -4,  6,  3, -1,  2, -8,  9, -10],\n",
    "    [  6, -4,  5, -7,  8,  1, -3,  2, -9,  10],\n",
    "    [ -7,  9, -6,  8, -10, 11,  3, -5,  4, -12],\n",
    "    [  8, -6,  7, -9, 10, -12, 13,  5, -4,   3],\n",
    "    [ -9, 11, -8, 10, -12, 14, -16, 17,  6,  -5],\n",
    "    [ 10, -8,  9, -11, 12, -14, 15, -17, 18,  7]\n",
    "]\n",
    "\n",
    "Q, R = fact_qr(A)\n",
    "print('Q=', Q)\n",
    "print('R=', R)\n",
    "\n"
   ]
  },
  {
   "cell_type": "markdown",
   "id": "396d5772-a7f0-452d-a192-6df8374e3786",
   "metadata": {
    "kernel": "SoS"
   },
   "source": [
    "## Pregunta 4\n",
    "\n",
    "Implementa el método iterativo de **Gauss-Seidel** para resolver sistemas de ecuaciones lineales de la forma:\n",
    "\n",
    "$$\n",
    "Ax = b\n",
    "$$\n",
    "### Parámetros\n",
    "\n",
    "- `A`: Matriz de coeficientes $ A \\in \\mathbb{R}^{m \\times m} $.\n",
    "- `b`: Vector del lado derecho $ b \\in \\mathbb{R}^{m} $.\n",
    "- `x0`: Vector inicial $ x^{(0)} \\in \\mathbb{R}^{m} $.\n",
    "- `tol`: Tolerancia para el criterio de convergencia.\n",
    "- `max_iter`: Número máximo de iteraciones.\n",
    "\n",
    "### Sistema a resolver\n",
    "\n",
    "Se debe resolver el sistema $Ax = b$, donde:\n",
    "\n",
    "- $A \\in \\mathbb{R}^{1000 \\times 1000}$, tal que:\n",
    "\n",
    "$$\n",
    "A[i,j] =\n",
    "\\begin{cases}\n",
    "1001 & \\text{si } i = j \\\\\n",
    "1 & \\text{si } i \\ne j\n",
    "\\end{cases}\n",
    "$$\n",
    "\n",
    "- $b \\in \\mathbb{R}^{1000}$ es el vector columna:\n",
    "\n",
    "$$\n",
    "b = (1, 1, \\dots, 1)^T\n",
    "$$\n",
    "\n",
    "### Retorna\n",
    "\n",
    "- Vector $x \\in \\mathbb{R}^{m}$ que representa la solución aproximada al sistema $Ax = b$.\n",
    "\n",
    "\n"
   ]
  },
  {
   "cell_type": "code",
   "execution_count": 69,
   "id": "b703fee8-2c88-46a8-8534-6d6423006798",
   "metadata": {
    "kernel": "SoS"
   },
   "outputs": [
    {
     "name": "stdout",
     "output_type": "stream",
     "text": [
      "Error final: 3.578478217410359e-07\n"
     ]
    }
   ],
   "source": [
    "import numpy as np\n",
    "\n",
    "def sust_adelante(A,b):\n",
    "    m=len(b)\n",
    "    x=np.zeros(m)\n",
    "    for i in range (m):\n",
    "        aux=0\n",
    "        for j in range(i):# solo hasta i-1\n",
    "            aux+= A[i,j]*x[j]\n",
    "        x[i]=(b[i]-aux)/A[i,i]\n",
    "    return x\n",
    "\n",
    "\n",
    "def gauss_seidel(A, b, xk, tol=1e-6, max_iter=100):\n",
    "    m = A.shape[0]\n",
    "\n",
    "    # Descomposición L + D y U\n",
    "    L = np.tril(A, -1)\n",
    "    D = np.diag(np.diag(A))\n",
    "    U = np.triu(A, 1)\n",
    "    LD = L + D\n",
    "\n",
    "    for k in range(1, max_iter + 1):\n",
    "        # Fórmula teórica del método G-S hacia adelante:\n",
    "        # x(k+1) =  - (L + D)^(-1) · U · x(k) + (L + D)^(-1) · b\n",
    "        # Se reescribe como:\n",
    "        # x(k+1) = (L + D)^(-1) · (b - U · x(k))\n",
    "        # Como no podemos usar la inversa directamente,\n",
    "        # reescribimos el sistema: (L + D) · x(k+1) = b - U · x(k)\n",
    "        # y lo resolvemos por sustitución hacia adelante.\n",
    "        \n",
    "        z = b - U @ xk\n",
    "        x_new = sust_adelante(LD, z)\n",
    "        error = np.linalg.norm(A @ x_new - b)\n",
    "\n",
    "        if error < tol:\n",
    "            return x_new, k, error\n",
    "        xk = x_new\n",
    "    return xk, k, error\n",
    "\n",
    "\n",
    "# Tamaño\n",
    "m = 1000\n",
    "\n",
    "# Matriz A: 1001 en la diagonal, 1 fuera de ella\n",
    "A = np.ones((m, m))\n",
    "np.fill_diagonal(A, 1001)\n",
    "\n",
    "# Vector b: todos unos\n",
    "b = np.ones(m)\n",
    "\n",
    "# Vector inicial\n",
    "x0 = np.zeros(m)\n",
    "\n",
    "# Ejecutar\n",
    "raiz, iteraciones, error = gauss_seidel(A, b, x0, tol=1e-6, max_iter=100)\n",
    "print(\"Error final:\", error)\n",
    "    "
   ]
  },
  {
   "cell_type": "code",
   "execution_count": null,
   "id": "f5f4490b-65bc-45c1-af3d-90a698d302c3",
   "metadata": {
    "kernel": "SoS"
   },
   "outputs": [],
   "source": []
  }
 ],
 "metadata": {
  "kernelspec": {
   "display_name": "SoS",
   "language": "sos",
   "name": "sos"
  },
  "language_info": {
   "codemirror_mode": "sos",
   "file_extension": ".sos",
   "mimetype": "text/x-sos",
   "name": "sos",
   "nbconvert_exporter": "sos_notebook.converter.SoS_Exporter",
   "pygments_lexer": "sos"
  },
  "sos": {
   "kernels": [
    [
     "Python 3 (ipykernel)",
     "python3",
     "python3",
     "",
     ""
    ],
    [
     "SoS",
     "sos",
     "sos",
     "",
     "sos"
    ]
   ],
   "version": ""
  }
 },
 "nbformat": 4,
 "nbformat_minor": 5
}
