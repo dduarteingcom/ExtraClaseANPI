{
 "cells": [
  {
   "cell_type": "markdown",
   "id": "b2ac68f8-6076-43e1-a1ca-adc052b4335d",
   "metadata": {},
   "source": [
    "# Ejercicios Extraclase Avance 2\n",
    "------------------------------------------------------------\n",
    "### Estudiantes:\n",
    "\n",
    "- #### Ana Melissa Vásquez Rojas \n",
    "- #### Daniel Duarte Cordero "
   ]
  },
  {
   "cell_type": "markdown",
   "id": "6c3a2b60-45d9-47a3-9199-fadc40b96f57",
   "metadata": {
    "jp-MarkdownHeadingCollapsed": true,
    "kernel": "SoS"
   },
   "source": [
    "## Pregunta 1\n",
    "\n",
    "Determina si una matriz cuadrada $[A ∈ ℝ^{m×m} tiene una única factorización LU.\n",
    "\n",
    "Basado en el teorema: Una matriz cuadrada A tiene una única factorización LU si y solo si \n",
    "todas sus submatrices principales $[A_{1:k,1:k}]$ son invertibles si y solo si\n",
    "rango $[(A_{1:k,1:k}) = k]$ para todo k = 1,...,m\n",
    "\n",
    "Parámetros:\n",
    "- A:Matriz cuadrada representada como lista de listas.\n",
    "\n",
    "Retorna:\n",
    "\n",
    "- `tf=1` si \\( A \\) tiene una única factorización LU.  \n",
    "- `tf=0` si no la tiene.\n",
    "\n"
   ]
  },
  {
   "cell_type": "code",
   "execution_count": 7,
   "id": "b7076d2a-2ecb-4362-94b3-60e0326b0db4",
   "metadata": {
    "kernel": "Python 3 (ipykernel)"
   },
   "outputs": [
    {
     "name": "stdout",
     "output_type": "stream",
     "text": [
      "A1 tiene LU única: tf= 1\n",
      "A2 tiene LU única: tf= 0\n"
     ]
    }
   ],
   "source": [
    "\n",
    "import numpy as np\n",
    "\n",
    "def tieneUnicaFactLU(A):\n",
    "\n",
    "    A = np.array(A)\n",
    "    m, n = A.shape\n",
    "\n",
    "    # Verificar que A sea cuadrada\n",
    "    if m != n:\n",
    "        return 0\n",
    "\n",
    "    # Verificación de submatrices principales usando el rango\n",
    "    for k in range(1, m + 1):  # 1 a m\n",
    "        submatriz = A[:k, :k]\n",
    "        if np.linalg.matrix_rank(submatriz) < k:\n",
    "            return 0  # Submatriz principal no tiene rango completo, entonces no hay LU única\n",
    "\n",
    "    # Inicialización\n",
    "    U = A\n",
    "    L = np.identity(m)\n",
    "\n",
    "    for k in range(1, m - 1):  \n",
    "        for j in range(k + 1, m):  # j = k+1 a m-1\n",
    "            L[j, k] = U[j, k] / U[k, k]\n",
    "            U[j, k:m] = U[j, k:m] - L[j, k] * U[k, k:m]\n",
    "\n",
    "    return 1  # Sí tiene una única factorización LU\n",
    "    \n",
    "# Caso 1: matriz con LU única\n",
    "A1 = np.array([\n",
    "    [2, 1, 1, 0, 0],\n",
    "    [4, 3, 3, 1, 0],\n",
    "    [8, 7, 9, 5, 1],\n",
    "    [6, 7, 9, 8, 4],\n",
    "    [2, 2, 3, 4, 7]\n",
    "])\n",
    "\n",
    "# Caso 2: matriz sin LU única (submatrices principales no invertibles)\n",
    "A2 = np.array([\n",
    "    [1, 2, 3, 4, 5],\n",
    "    [2, 4, 6, 8, 10],\n",
    "    [1, 1, 1, 1, 1],\n",
    "    [3, 6, 9, 12, 15],\n",
    "    [0, 0, 0, 0, 0]\n",
    "])\n",
    "\n",
    "print(\"A1 tiene LU única:\", \"tf=\", tieneUnicaFactLU(A1))  # 1\n",
    "print(\"A2 tiene LU única:\", \"tf=\",tieneUnicaFactLU(A2))  # 0\n",
    "\n"
   ]
  },
  {
   "cell_type": "code",
   "execution_count": null,
   "id": "3fe566ab-d2fc-40fa-9239-4ea58e5ccd6f",
   "metadata": {
    "kernel": "SoS"
   },
   "outputs": [],
   "source": []
  }
 ],
 "metadata": {
  "kernelspec": {
   "display_name": "SoS",
   "language": "sos",
   "name": "sos"
  },
  "language_info": {
   "codemirror_mode": "sos",
   "file_extension": ".sos",
   "mimetype": "text/x-sos",
   "name": "sos",
   "nbconvert_exporter": "sos_notebook.converter.SoS_Exporter",
   "pygments_lexer": "sos"
  },
  "sos": {
   "kernels": [
    [
     "Python 3 (ipykernel)",
     "python3",
     "python3",
     "",
     ""
    ],
    [
     "SoS",
     "sos",
     "sos",
     "",
     "sos"
    ]
   ],
   "version": ""
  }
 },
 "nbformat": 4,
 "nbformat_minor": 5
}
