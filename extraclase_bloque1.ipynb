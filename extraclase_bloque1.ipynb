{
 "cells": [
  {
   "cell_type": "code",
   "execution_count": null,
   "id": "7051215f-b3b7-4eea-9f3a-f2f8e0c05b85",
   "metadata": {
    "kernel": "SoS"
   },
   "outputs": [],
   "source": [
    "%use octave\n",
    "#Pregunta #1\n",
    "####Clase 18 Feb####"
   ]
  },
  {
   "cell_type": "code",
   "execution_count": 3,
   "id": "49c17330-c988-4839-836e-a9ad6b295e81",
   "metadata": {
    "kernel": "Octave",
    "tags": []
   },
   "outputs": [
    {
     "name": "stdout",
     "output_type": "stream",
     "text": [
      "El numero es menor a 15\n",
      "nFactorial = 5040\n"
     ]
    }
   ],
   "source": [
    "%use octave\n",
    "#-Primer script Octave-#\n",
    "%Primer script en Octave\n",
    "\n",
    "%clc;    %Limpiar la ventana de comandos\n",
    "%clear;  %Limpiar las variables del sistema\n",
    "%close all %Cerrar todas las ventanas de graficos\n",
    "\n",
    "clc; clear; close all;\n",
    "\n",
    "A=rand(10,15); %Matriz aleatoria de 10x15\n",
    "B=rand(15,15); %Matriz aleatoria de 10x10\n",
    "C=A*B;\n",
    "\n",
    "t=10;\n",
    "\n",
    "if t<15\n",
    "  disp('El numero es menor a 15')\n",
    "else\n",
    "  disp('El numero es mayor o igual a 15')\n",
    "end\n",
    "\n",
    "vect=[1 2 3 4 5 6 7 8 9 10];\n",
    "\n",
    "vect_trans=vect.'; %Calcula la transpuesta\n",
    "\n",
    "vec1=1:100; %Vector de numeros que inicia\n",
    "            %en 1 y llega hasta 100\n",
    "            %con saltos de 1\n",
    "\n",
    "vec2=0:5:100; %Vector de numeros que inicia\n",
    "            %en 0 y llega hasta 100\n",
    "            %con saltos de 5\n",
    "\n",
    "vec3=[];\n",
    "for k=1:10\n",
    "  vec3=[vec3 2^k];\n",
    "end\n",
    "\n",
    "\n",
    "n = 1;\n",
    "nFactorial = 1;\n",
    "while nFactorial < 1000\n",
    "  n = n + 1;\n",
    "  nFactorial = nFactorial * n;\n",
    "end\n",
    "nFactorial\n"
   ]
  },
  {
   "cell_type": "code",
   "execution_count": 10,
   "id": "324c0d3e-f96b-4faa-a120-2002ad976a89",
   "metadata": {
    "kernel": "Octave",
    "tags": []
   },
   "outputs": [
    {
     "name": "stdout",
     "output_type": "stream",
     "text": [
      "La solucion es 2 y -3\n"
     ]
    }
   ],
   "source": [
    "%use Octave\n",
    "#-Ejercicio cuadrática-#\n",
    "function ejemplo_cuadratica()\n",
    "%funciones de ejemplos numericos\n",
    "%que sirve para ejecutar ejemplos\n",
    "%especificos, y las funciones de codigo\n",
    "%que resuelven un problema, se encuentran\n",
    "%debajo de esta funcion\n",
    "  clc; clear; close all\n",
    "  a=1; b=1; c=-6;\n",
    "  x=cuad(a,b,c);\n",
    "  disp(['La solucion es ', num2str(x(1)), ' y ' , num2str(x(2))])\n",
    "\n",
    "\n",
    "end\n",
    "\n",
    "function x=cuad(a,b,c)\n",
    "  %Encuentra la solucion de la ecuacion\n",
    "  %ax^2+bx+c=0\n",
    "  %x es un vector que contiene las soluciones\n",
    "\n",
    "  disc=discriminante(a,b,c);\n",
    "  x1=(-b+sqrt(disc))/(2*a);\n",
    "  x2=(-b-sqrt(disc))/(2*a);\n",
    "  x=[x1 x2];\n",
    "end\n",
    "\n",
    "function d=discriminante(a,b,c)\n",
    "  d=b^2-4*a*c;\n",
    "end\n",
    "\n",
    "\n",
    "\n",
    "function x=cuadratica(a,b,c)\n",
    "  %Encuentra la solucion de la ecuacion\n",
    "  %ax^2+bx+c=0\n",
    "  %x es un vector que contiene las soluciones\n",
    "\n",
    "  disc=discriminante(a,b,c);\n",
    "  x1=(-b+sqrt(disc))/(2*a);\n",
    "  x2=(-b-sqrt(disc))/(2*a);\n",
    "  x=[x1 x2];\n",
    "end\n",
    "ejemplo_cuadratica();\n"
   ]
  },
  {
   "cell_type": "code",
   "execution_count": null,
   "id": "7d271a8d-f657-4120-b8b5-e85ae0ccb33f",
   "metadata": {
    "kernel": "Octave"
   },
   "outputs": [],
   "source": []
  }
 ],
 "metadata": {
  "kernelspec": {
   "display_name": "SoS",
   "language": "sos",
   "name": "sos"
  },
  "language_info": {
   "codemirror_mode": "sos",
   "file_extension": ".sos",
   "mimetype": "text/x-sos",
   "name": "sos",
   "nbconvert_exporter": "sos_notebook.converter.SoS_Exporter",
   "pygments_lexer": "sos"
  },
  "sos": {
   "kernels": [
    [
     "SoS",
     "sos",
     "",
     ""
    ]
   ],
   "version": "0.24.0"
  }
 },
 "nbformat": 4,
 "nbformat_minor": 5
}
