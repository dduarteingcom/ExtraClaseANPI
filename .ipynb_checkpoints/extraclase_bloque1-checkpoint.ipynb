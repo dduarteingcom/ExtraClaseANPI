{
 "cells": [
  {
   "cell_type": "code",
   "execution_count": null,
   "id": "7051215f-b3b7-4eea-9f3a-f2f8e0c05b85",
   "metadata": {
    "kernel": "SoS"
   },
   "outputs": [],
   "source": [
    "%use octave\n",
    "#Pregunta #1\n",
    "####Clase 18 Feb####"
   ]
  },
  {
   "cell_type": "code",
   "execution_count": 3,
   "id": "49c17330-c988-4839-836e-a9ad6b295e81",
   "metadata": {
    "kernel": "Octave",
    "tags": []
   },
   "outputs": [
    {
     "name": "stdout",
     "output_type": "stream",
     "text": [
      "El numero es menor a 15\n",
      "nFactorial = 5040\n"
     ]
    }
   ],
   "source": [
    "%use octave\n",
    "#-Primer script Octave-#\n",
    "%Primer script en Octave\n",
    "\n",
    "%clc;    %Limpiar la ventana de comandos\n",
    "%clear;  %Limpiar las variables del sistema\n",
    "%close all %Cerrar todas las ventanas de graficos\n",
    "\n",
    "clc; clear; close all;\n",
    "\n",
    "A=rand(10,15); %Matriz aleatoria de 10x15\n",
    "B=rand(15,15); %Matriz aleatoria de 10x10\n",
    "C=A*B;\n",
    "\n",
    "t=10;\n",
    "\n",
    "if t<15\n",
    "  disp('El numero es menor a 15')\n",
    "else\n",
    "  disp('El numero es mayor o igual a 15')\n",
    "end\n",
    "\n",
    "vect=[1 2 3 4 5 6 7 8 9 10];\n",
    "\n",
    "vect_trans=vect.'; %Calcula la transpuesta\n",
    "\n",
    "vec1=1:100; %Vector de numeros que inicia\n",
    "            %en 1 y llega hasta 100\n",
    "            %con saltos de 1\n",
    "\n",
    "vec2=0:5:100; %Vector de numeros que inicia\n",
    "            %en 0 y llega hasta 100\n",
    "            %con saltos de 5\n",
    "\n",
    "vec3=[];\n",
    "for k=1:10\n",
    "  vec3=[vec3 2^k];\n",
    "end\n",
    "\n",
    "\n",
    "n = 1;\n",
    "nFactorial = 1;\n",
    "while nFactorial < 1000\n",
    "  n = n + 1;\n",
    "  nFactorial = nFactorial * n;\n",
    "end\n",
    "nFactorial\n"
   ]
  },
  {
   "cell_type": "code",
   "execution_count": 10,
   "id": "324c0d3e-f96b-4faa-a120-2002ad976a89",
   "metadata": {
    "kernel": "Octave",
    "tags": []
   },
   "outputs": [
    {
     "name": "stdout",
     "output_type": "stream",
     "text": [
      "La solucion es 2 y -3\n"
     ]
    }
   ],
   "source": [
    "%use Octave\n",
    "#-Ejercicio cuadrática-#\n",
    "function ejemplo_cuadratica()\n",
    "%funciones de ejemplos numericos\n",
    "%que sirve para ejecutar ejemplos\n",
    "%especificos, y las funciones de codigo\n",
    "%que resuelven un problema, se encuentran\n",
    "%debajo de esta funcion\n",
    "  clc; clear; close all\n",
    "  a=1; b=1; c=-6;\n",
    "  x=cuad(a,b,c);\n",
    "  disp(['La solucion es ', num2str(x(1)), ' y ' , num2str(x(2))])\n",
    "\n",
    "\n",
    "end\n",
    "\n",
    "function x=cuad(a,b,c)\n",
    "  %Encuentra la solucion de la ecuacion\n",
    "  %ax^2+bx+c=0\n",
    "  %x es un vector que contiene las soluciones\n",
    "\n",
    "  disc=discriminante(a,b,c);\n",
    "  x1=(-b+sqrt(disc))/(2*a);\n",
    "  x2=(-b-sqrt(disc))/(2*a);\n",
    "  x=[x1 x2];\n",
    "end\n",
    "\n",
    "function d=discriminante(a,b,c)\n",
    "  d=b^2-4*a*c;\n",
    "end\n",
    "\n",
    "\n",
    "\n",
    "function x=cuadratica(a,b,c)\n",
    "  %Encuentra la solucion de la ecuacion\n",
    "  %ax^2+bx+c=0\n",
    "  %x es un vector que contiene las soluciones\n",
    "\n",
    "  disc=discriminante(a,b,c);\n",
    "  x1=(-b+sqrt(disc))/(2*a);\n",
    "  x2=(-b-sqrt(disc))/(2*a);\n",
    "  x=[x1 x2];\n",
    "end\n",
    "ejemplo_cuadratica();\n"
   ]
  },
  {
   "cell_type": "code",
   "execution_count": 1,
   "id": "7d271a8d-f657-4120-b8b5-e85ae0ccb33f",
   "metadata": {
    "kernel": "Octave",
    "tags": []
   },
   "outputs": [],
   "source": [
    "%use octave\n",
    "####Clase 20 Feb####"
   ]
  },
  {
   "cell_type": "code",
   "execution_count": 4,
   "id": "d1ba4850-70c1-458f-9e54-6c22a7839fb9",
   "metadata": {
    "kernel": "Octave",
    "tags": []
   },
   "outputs": [
    {
     "name": "stdout",
     "output_type": "stream",
     "text": [
      "x = 1.4142\n"
     ]
    }
   ],
   "source": [
    "%use octave\n",
    "#-Ejemplo 1 -#\n",
    "% Ejemplos de cálculo numérico\n",
    "\n",
    "clc; clear; close all\n",
    "\n",
    "x=sqrt(2); % Raiz cuadrada\n",
    "y=sin(5); % Seno en radianes\n",
    "\n",
    "%format long %Más decimales\n",
    "%format short %Menos decimales\n",
    "\n",
    "% Matrices\n",
    "A=rand(4,4);\n",
    "Ainv=A^-1; %inv(A)\n",
    "C=round(A*Ainv);\n",
    "\n",
    "% Sistemas de Ecuaciones Ax=b\n",
    "A=[5 1 0;\n",
    "   1 5 1;\n",
    "   0 1 5]; %A=[5 1 0;1 5 1;0 1 5]\n",
    "b=[-6;\n",
    "   -7;\n",
    "   -6]; %b=[-6 -7 -6]\n",
    "\n",
    "x=mldivide(A,b); %x=A\\b\n",
    "\n",
    "determinante = det(A);\n",
    "%valores propios\n",
    "[X,V]=eig(A);\n",
    "\n",
    "%Matriz escalonada reducida\n",
    "A=[1 2 3 5; 1 5 4 3; -2 -4 -6 -10];\n",
    "E=rref(A);\n",
    "\n",
    "% Minimo de una función f(x)\n",
    "% necesitamos saber un valor\n",
    "% x0 cercano al minimo\n",
    "\n",
    "%Definir una funcion numerica en Octave\n",
    "fun=@(x) exp(x)-2*x- 10;\n",
    "%Definir x0\n",
    "x0=3;\n",
    "xsol=fminsearch(fun,x0);\n",
    "\n",
    "% Solucion de la ecuacion f(x)=0\n",
    "% necesitamos saber un valor\n",
    "% x0 cercano al cero\n",
    "\n",
    "%Definir una funcion numerica en Octave\n",
    "fun=@(x) exp(x)-2*x -10;\n",
    "%Definir x0\n",
    "x0=3;\n",
    "xsol=fzero(fun,x0);\n",
    "\n",
    "%Encontrar el minimo de una funcion\n",
    "%f(x) en un intervalo [a,b]\n",
    "a=-2;\n",
    "b=2;\n",
    "xmin=fminbnd(fun,a,b);\n",
    "\n",
    "%Calcular el maximo\n",
    "a=0;\n",
    "b=3;\n",
    "newfun=@(x) -1*fun(x);\n",
    "fmaxbnd=@(newfun,a,b) fminbnd(newfun,a,b);\n",
    "xmax=fmaxbnd(newfun,a,b);\n"
   ]
  },
  {
   "cell_type": "code",
   "execution_count": 10,
   "id": "79a5d3cf-3bd8-48dd-8ba3-1d871f8a5ebb",
   "metadata": {
    "kernel": "Octave",
    "tags": []
   },
   "outputs": [
    {
     "name": "stdout",
     "output_type": "stream",
     "text": [
      "Symbolic pkg v3.2.1: Python communication link active, SymPy v1.11.1.\n",
      "fd = (sym)\n",
      "\n",
      "    _______________ ⎛log(x)⋅cos(x)   sin(x)⎞\n",
      "  ╲╱ log(x)⋅sin(x) ⋅⎜───────────── + ──────⎟\n",
      "                    ⎝      2          2⋅x  ⎠\n",
      "  ──────────────────────────────────────────\n",
      "                log(x)⋅sin(x)               \n",
      "\n",
      "g = (sym) sin(x) + cos(x)\n"
     ]
    },
    {
     "data": {
      "image/png": "[encoded data removed]",
      "text/plain": [
       "<IPython.core.display.Image object>"
      ]
     },
     "metadata": {},
     "output_type": "display_data"
    }
   ],
   "source": [
    "%use octave\n",
    "#-Ejemplo 2-#\n",
    "%Ejemplos de calculo simbolico\n",
    "\n",
    "clc; clear; close all\n",
    "\n",
    "pkg load symbolic\n",
    "\n",
    "syms x\n",
    "a=sin(x);\n",
    "b=cos(x);\n",
    "y=simplify(a^2+b^2);\n",
    "\n",
    "%Evaluar en symbolic\n",
    "warning('off','all')\n",
    "y=cos(x)+sin(x);\n",
    "z=5;\n",
    "for k=1:10\n",
    "  z=double(subs(y,z)); %Cambia de symbolic a numerico\n",
    "end\n",
    "\n",
    "%Derivar\n",
    "f=sqrt(sin(x)*log(x));\n",
    "fd=diff(f)\n",
    "\n",
    "%Limites\n",
    "g=sin(x)/x;\n",
    "limite=limit(g,0);\n",
    "\n",
    "%graficar\n",
    "g=cos(x)+sin(x)\n",
    "ezplot(g,[-5 5])"
   ]
  },
  {
   "cell_type": "code",
   "execution_count": 12,
   "id": "a6a842ef-b161-477a-8d77-5d801e628306",
   "metadata": {
    "kernel": "Octave",
    "tags": []
   },
   "outputs": [
    {
     "name": "stdout",
     "output_type": "stream",
     "text": [
      "f_text = exp(x)+4*x\n",
      "f_sym = (sym)\n",
      "\n",
      "         x\n",
      "  4⋅x + ℯ \n",
      "\n",
      "f_num =\n",
      "\n",
      "@(x) exp (x) + 4 * x\n",
      "\n",
      "f_num2 =\n",
      "\n",
      "@(x) 4 * x + exp (x)\n",
      "\n"
     ]
    }
   ],
   "source": [
    "%use octave\n",
    "#-Ejemplo 3-#\n",
    "%Ejemplos de funciones numericas usando\n",
    "%simbolico y numerico\n",
    "\n",
    "clc; clear; close all\n",
    "\n",
    "pkg load symbolic\n",
    "\n",
    "syms x\n",
    "\n",
    "f_text='exp(x)+4*x'\n",
    "%Pasar de texto a simbolico\n",
    "f_sym = sym(f_text)\n",
    "%Pasar de texto a numerico\n",
    "f_num=str2func(['@(x)' f_text])\n",
    "%Pasar de simbolico a numerico\n",
    "f_num2=matlabFunction(f_sym)\n"
   ]
  },
  {
   "cell_type": "code",
   "execution_count": 16,
   "id": "0e67f52e-391f-4eee-93a5-a9e7d3f66c88",
   "metadata": {
    "kernel": "Octave",
    "tags": []
   },
   "outputs": [
    {
     "data": {
      "image/png": "[encoded data removed]",
      "text/plain": [
       "<IPython.core.display.Image object>"
      ]
     },
     "metadata": {},
     "output_type": "display_data"
    }
   ],
   "source": [
    "%use octave\n",
    "#-Ejemplo 4-#\n",
    "%Graficas numericas en Octave\n",
    "\n",
    "clc; clear; close all\n",
    "\n",
    "ejex=1:0.001:10; %[1 1.01 1.02 .... 9.98 9.99 10]\n",
    "ejey=cos(ejex);\n",
    "%stem(ejex,ejey) %Graficar pares ordenados\n",
    "\n",
    "plot(ejex,ejey,'r')\n",
    "title('Grafica de f(x)=cos(x)')\n",
    "xlabel('Eje x')\n",
    "ylabel('Eje y')\n"
   ]
  },
  {
   "cell_type": "code",
   "execution_count": 2,
   "id": "24d4626b-f3a5-4903-873d-63cd4889c8e5",
   "metadata": {
    "kernel": "Octave",
    "tags": []
   },
   "outputs": [],
   "source": [
    "%use octave\n",
    "###Clase 25 Feb###"
   ]
  },
  {
   "cell_type": "code",
   "execution_count": 4,
   "id": "77ffc555-5671-4527-8487-fc30f63c8d6a",
   "metadata": {
    "kernel": "Octave",
    "tags": []
   },
   "outputs": [
    {
     "name": "stdout",
     "output_type": "stream",
     "text": [
      "p = 0.5000\n"
     ]
    }
   ],
   "source": [
    "%use octave\n",
    "#-División-#\n",
    "function y=div_t(a)\n",
    "\n",
    "  iterMax=250;\n",
    "  tol=1e-8;\n",
    "\n",
    "  xk_v=0.1;\n",
    "  for k=1:iterMax\n",
    "    xk=xk_v*(2-a*xk_v);\n",
    "    if abs(xk-xk_v)<tol*abs(xk)\n",
    "      break\n",
    "    end\n",
    "    xk_v=xk;\n",
    "  end\n",
    "  y=xk;\n",
    "end\n",
    "p = div_t(2)"
   ]
  },
  {
   "cell_type": "code",
   "execution_count": 7,
   "id": "750bd621-0b6a-4826-8f1e-5e7ef7274f1c",
   "metadata": {
    "kernel": "Python3",
    "tags": []
   },
   "outputs": [
    {
     "name": "stdout",
     "output_type": "stream",
     "text": [
      "El numero es menor a 15\n",
      "[[ 1]\n",
      " [ 2]\n",
      " [ 3]\n",
      " [ 4]\n",
      " [ 5]\n",
      " [ 6]\n",
      " [ 7]\n",
      " [ 8]\n",
      " [ 9]\n",
      " [10]]\n",
      "[  0.   2.   4.   8.  16.  32.  64. 128. 256. 512.]\n",
      "5040\n"
     ]
    }
   ],
   "source": [
    "%use python3\n",
    "#-Ejemplo 0-#\n",
    "import numpy as np\n",
    "\n",
    "\n",
    "# Generar matrices aleatorias\n",
    "A = np.random.rand(10, 15)\n",
    "B = np.random.rand(15, 15)\n",
    "C = np.dot(A, B)  # Multiplicación de matrices\n",
    "\n",
    "# Condicional\n",
    "t = 10\n",
    "if t < 15:\n",
    "    print('El numero es menor a 15')\n",
    "else:\n",
    "    print('El numero es mayor o igual a 15')\n",
    "\n",
    "# Definir vectores\n",
    "vect = np.array([1, 2, 3, 4, 5, 6, 7, 8, 9, 10])\n",
    "vect_trans = np.expand_dims(vect, axis=1)  # Calcular la transpuesta\n",
    "print(vect_trans)\n",
    "\n",
    "\n",
    "vec1 = np.arange(1, 101)  # Vector de 1 a 100 con paso de 1\n",
    "vec2 = np.arange(0, 101, 5)  # Vector de 0 a 100 con paso de 5\n",
    "\n",
    "# Generar vec3 con potencias de 2\n",
    "vec3 = np.array([2**k for k in range(1, 11)])\n",
    "\n",
    "vec4=np.zeros(10)\n",
    "\n",
    "for k in range(1, 10):\n",
    "    vec4[k]=2**k\n",
    "\n",
    "print(vec4)\n",
    "\n",
    "\n",
    "# Calcular el factorial de n mientras sea menor que 1000\n",
    "n = 1\n",
    "nFactorial = 1\n",
    "while nFactorial < 1000:\n",
    "    n += 1\n",
    "    nFactorial *= n\n",
    "\n",
    "print(nFactorial)"
   ]
  },
  {
   "cell_type": "code",
   "execution_count": 8,
   "id": "08338d32-e59d-41cd-b5e2-935d0095643a",
   "metadata": {
    "kernel": "Python3",
    "tags": []
   },
   "outputs": [
    {
     "name": "stdout",
     "output_type": "stream",
     "text": [
      "[-1.0, -1.0]\n"
     ]
    }
   ],
   "source": [
    "%use python3\n",
    "#-Ejemplo 1-#\n",
    "import math\n",
    "\n",
    "def discriminante(a, b, c):\n",
    "    return b**2 - 4*a*c\n",
    "\n",
    "def cuadratica(a, b, c):\n",
    "    # Encuentra la solución de la ecuación ax^2 + bx + c = 0\n",
    "    # Devuelve una lista con las soluciones\n",
    "    disc = discriminante(a, b, c)\n",
    "    x1 = (-b + math.sqrt(disc)) / (2 * a)\n",
    "    x2 = (-b - math.sqrt(disc)) / (2 * a)\n",
    "    return [x1, x2]\n",
    "\n",
    "print(cuadratica(1,2,1))"
   ]
  },
  {
   "cell_type": "code",
   "execution_count": 9,
   "id": "e4f6953f-c286-4db8-827d-5df5fa0bf032",
   "metadata": {
    "kernel": "Python3",
    "tags": []
   },
   "outputs": [
    {
     "name": "stdout",
     "output_type": "stream",
     "text": [
      "La solución es 2.0 y -3.0\n"
     ]
    }
   ],
   "source": [
    "%use python3\n",
    "#-Ejemplo 2-#\n",
    "import numpy as np\n",
    "\n",
    "def ejemplo_cuadratica():\n",
    "    \"\"\"\n",
    "    Función de ejemplo numérico que ejecuta un caso específico.\n",
    "    \"\"\"\n",
    "    a, b, c = 1, 1, -6\n",
    "    x = cuad(a, b, c)\n",
    "    print(f\"La solución es {x[0]} y {x[1]}\")\n",
    "\n",
    "def cuad(a, b, c):\n",
    "    \"\"\"\n",
    "    Encuentra la solución de la ecuación ax^2 + bx + c = 0.\n",
    "    Retorna un vector con las soluciones.\n",
    "    \"\"\"\n",
    "    disc = discriminante(a, b, c)\n",
    "    x1 = (-b + np.sqrt(disc)) / (2 * a)\n",
    "    x2 = (-b - np.sqrt(disc)) / (2 * a)\n",
    "    return [x1, x2]\n",
    "\n",
    "def discriminante(a, b, c):\n",
    "    \"\"\"\n",
    "    Calcula el discriminante de la ecuación cuadrática.\n",
    "    \"\"\"\n",
    "    return b**2 - 4 * a * c\n",
    "\n",
    "if __name__ == \"__main__\":\n",
    "    ejemplo_cuadratica()"
   ]
  },
  {
   "cell_type": "code",
   "execution_count": 11,
   "id": "8ef058ef-e404-47dc-bf14-f45dd5194d70",
   "metadata": {
    "kernel": "Python3",
    "tags": []
   },
   "outputs": [
    {
     "name": "stdout",
     "output_type": "stream",
     "text": [
      "[[ 1. -0. -0.  0.]\n",
      " [-0.  1. -0.  0.]\n",
      " [ 0. -0.  1. -0.]\n",
      " [-0. -0.  0.  1.]]\n",
      "[-1. -1. -1.]\n",
      "[0.69316406]\n",
      "[2.73948193]\n",
      "0.6931472153780879\n",
      "2.9999965472915386\n"
     ]
    }
   ],
   "source": [
    "%use python3\n",
    "#-Ejemplo 3-#\n",
    "import numpy as np\n",
    "import scipy.linalg as la\n",
    "import scipy.optimize as opt\n",
    "\n",
    "# Ejemplos de cálculo numérico\n",
    "\n",
    "x = np.sqrt(2)  # Raíz cuadrada\n",
    "y = np.sin(5)  # Seno en radianes\n",
    "\n",
    "# Matrices\n",
    "A = np.random.rand(4, 4)\n",
    "Ainv = np.linalg.inv(A)  # Inversa de A\n",
    "C = np.round(A @ Ainv)  # Multiplicación matricial\n",
    "print(C)\n",
    "\n",
    "# Sistemas de Ecuaciones Ax=b\n",
    "A = np.array([[5, 1, 0],\n",
    "              [1, 5, 1],\n",
    "              [0, 1, 5]])\n",
    "b = np.array([-6, -7, -6])\n",
    "\n",
    "x = np.linalg.solve(A, b)  # Resolver Ax = b\n",
    "print(x)\n",
    "\n",
    "determinante = np.linalg.det(A)  # Determinante\n",
    "\n",
    "# Valores propios\n",
    "V, X = np.linalg.eig(A)\n",
    "\n",
    "# Matriz escalonada reducida\n",
    "A = np.array([[1, 2, 3, 5],\n",
    "              [1, 5, 4, 3],\n",
    "              [-2, -4, -6, -10]], dtype=float)\n",
    "E, _ = la.lu(A, permute_l=True)  # Aproximación a rref con LU\n",
    "\n",
    "# Mínimo de una función f(x)\n",
    "def fun(x):\n",
    "    return np.exp(x) - 2*x - 10\n",
    "\n",
    "x0 = 3\n",
    "xsol = opt.fmin(fun, x0, disp=False)  # Encontrar mínimo\n",
    "print(xsol)\n",
    "\n",
    "# Solución de la ecuación f(x) = 0\n",
    "xsol_root = opt.fsolve(fun, x0)\n",
    "print(xsol_root)\n",
    "\n",
    "# Encontrar el mínimo de una función f(x) en un intervalo [a, b]\n",
    "a, b = -2, 2\n",
    "xmin = opt.fminbound(fun, a, b)\n",
    "print(xmin)\n",
    "\n",
    "# Calcular el máximo\n",
    "def newfun(x):\n",
    "    return -fun(x)\n",
    "\n",
    "a, b = 0, 3\n",
    "xmax = opt.fminbound(newfun, a, b)\n",
    "print(xmax)\n"
   ]
  },
  {
   "cell_type": "code",
   "execution_count": 2,
   "id": "fad7e056-3bd8-4347-9381-8205c9b2f8ff",
   "metadata": {
    "kernel": "Python3",
    "tags": []
   },
   "outputs": [
    {
     "name": "stdout",
     "output_type": "stream",
     "text": [
      "-0.6752620891999122\n",
      "0.1554412353596678\n",
      "1.1427593465126127\n",
      "1.3248680061208318\n",
      "1.2133685556116345\n",
      "1.2866655862632395\n",
      "1.2402288390367395\n",
      "1.270438144390593\n",
      "1.2510929501252432\n",
      "1.2636136655130894\n",
      "sqrt(log(x)*sin(x))*(log(x)*cos(x)/2 + sin(x)/(2*x))/(log(x)*sin(x))\n"
     ]
    },
    {
     "data": {
      "image/png": "[encoded data removed]",
      "text/plain": [
       "<Figure size 640x480 with 1 Axes>"
      ]
     },
     "metadata": {},
     "output_type": "display_data"
    }
   ],
   "source": [
    "%use python3\n",
    "#-Ejemplo 4-#\n",
    "import sympy as sp\n",
    "import numpy as np\n",
    "import matplotlib.pyplot as plt\n",
    "\n",
    "# Definir la variable simbólica\n",
    "x = sp.symbols('x')\n",
    "\n",
    "a = sp.sin(x)\n",
    "b = sp.cos(x)\n",
    "y = sp.simplify(a**2 + b**2)\n",
    "\n",
    "# Evaluar en symbolic\n",
    "\n",
    "y = sp.cos(x) + sp.sin(x)\n",
    "z = 5\n",
    "for _ in range(10):\n",
    "    z = float(y.subs(x, z))  # Cambia de simbólico a numérico\n",
    "    print(z)\n",
    "\n",
    "# Derivar\n",
    "f = sp.sqrt(sp.sin(x) * sp.log(x))\n",
    "fd = sp.diff(f, x)\n",
    "print(fd)\n",
    "\n",
    "# Límites\n",
    "g = sp.sin(x) / x\n",
    "limite = sp.limit(g, x, 0)\n",
    "\n",
    "# Graficar\n",
    "g_func = sp.lambdify(x, sp.cos(x) + sp.sin(x), 'numpy')\n",
    "x_vals = np.linspace(-5, 5, 400)\n",
    "y_vals = g_func(x_vals)\n",
    "\n",
    "plt.plot(x_vals, y_vals, label='cos(x) + sin(x)')\n",
    "plt.axhline(0, color='black', linewidth=0.5)\n",
    "plt.axvline(0, color='black', linewidth=0.5)\n",
    "plt.legend()\n",
    "plt.grid()\n",
    "plt.show()"
   ]
  },
  {
   "cell_type": "code",
   "execution_count": 3,
   "id": "0d9875b1-4c40-4474-bd50-8ac9acbad73a",
   "metadata": {
    "kernel": "Python3",
    "tags": []
   },
   "outputs": [
    {
     "name": "stdout",
     "output_type": "stream",
     "text": [
      "Simbólico: 4*x + exp(x)\n",
      "Numérico (desde texto): 6.718281828459045\n",
      "Numérico (desde simbólico): 6.718281828459045\n"
     ]
    }
   ],
   "source": [
    "%use python3\n",
    "#-Ejemplo 5-#\n",
    "import sympy as sp\n",
    "import numpy as np\n",
    "\n",
    "# Definir la variable simbólica\n",
    "x = sp.symbols('x')\n",
    "\n",
    "# Definir la función como texto\n",
    "f_text = 'exp(x) + 4*x'\n",
    "\n",
    "# Pasar de texto a simbólico\n",
    "f_sym = sp.sympify(f_text)\n",
    "print(\"Simbólico:\", f_sym)\n",
    "\n",
    "# Pasar de texto a numérico\n",
    "f_num = lambda x: eval(f_text, {\"x\": x, \"exp\": np.exp})\n",
    "print(\"Numérico (desde texto):\", f_num(1))\n",
    "\n",
    "# Pasar de simbólico a numérico\n",
    "f_num2 = sp.lambdify(x, f_sym, modules=['numpy'])\n",
    "print(\"Numérico (desde simbólico):\", f_num2(1))"
   ]
  },
  {
   "cell_type": "code",
   "execution_count": 5,
   "id": "6c051a54-cdaa-43ca-aa51-c35b8e5a9c7f",
   "metadata": {
    "kernel": "Octave",
    "tags": []
   },
   "outputs": [
    {
     "name": "stdout",
     "output_type": "stream",
     "text": [
      "p = 7.3891\n"
     ]
    }
   ],
   "source": [
    "%use octave\n",
    "function y=exp_t(a)\n",
    "\n",
    "  iterMax=2500;\n",
    "  tol=1e-10;\n",
    "\n",
    "  Sk_v=1;\n",
    "  for k=1:iterMax\n",
    "    Sk=Sk_v+a^k/factorial(k);\n",
    "    er=abs(Sk-Sk_v);\n",
    "    if er<tol\n",
    "      break\n",
    "    endif\n",
    "    Sk_v=Sk;\n",
    "  endfor\n",
    "  y=Sk;\n",
    "end\n",
    "\n",
    "p = exp_t(2)"
   ]
  },
  {
   "cell_type": "code",
   "execution_count": 2,
   "id": "852b014b-a62b-48c1-b826-9ba9a02f1f11",
   "metadata": {
    "kernel": "Python3",
    "tags": []
   },
   "outputs": [
    {
     "data": {
      "image/png": "[encoded data removed]",
      "text/plain": [
       "<Figure size 640x480 with 1 Axes>"
      ]
     },
     "metadata": {},
     "output_type": "display_data"
    }
   ],
   "source": [
    "#Pregunta 5#\n",
    "### NHO ###\n",
    "%use python3\n",
    "# ------------------------------------------------------------------------------\n",
    "# MÉTODO NHO - IMPLEMENTACIÓN EN PYTHON\n",
    "# ------------------------------------------------------------------------------\n",
    "# Este script implementa el método iterativo propuesto por Liang Fang y Guoping He,\n",
    "# conocido como método NHO (Newton-Herencia-Orden), para aproximar la raíz de una\n",
    "# ecuación no lineal de la forma f(x) = 0. El método es una mejora del método de \n",
    "# Newton-Raphson, utilizando una corrección adicional con base en la derivada de f.\n",
    "# \n",
    "# La función a resolver es: \n",
    "#     f(x) = x^2 - e^x - 3x + 2\n",
    "# \n",
    "# Se emplea una tolerancia de 1e-10 como criterio de parada, con un máximo de 100\n",
    "# iteraciones. Además, se grafica el error cometido en cada iteración en escala\n",
    "# logarítmica, lo que permite evaluar la convergencia del método.\n",
    "# ------------------------------------------------------------------------------\n",
    "import numpy as np\n",
    "import matplotlib.pyplot as plt\n",
    "\n",
    "# Tolerancia y número máximo de iteraciones\n",
    "tol = 1e-10\n",
    "iterMax = 100\n",
    "\n",
    "# Definición de la función f(x)\n",
    "def f(x):\n",
    "    return x**2 - np.exp(x) - 3*x + 2\n",
    "\n",
    "# Derivada de la función f(x)\n",
    "def df(x):\n",
    "    return 2*x - np.exp(x) - 3\n",
    "\n",
    "# Función auxiliar H(x, z) usada en la fórmula iterativa del método NHO\n",
    "def H(x, z):\n",
    "    return (df(x) - df(z)) / (3*df(z) - df(x))\n",
    "\n",
    "# Función principal que implementa el método NHO\n",
    "def NHO():\n",
    "    errores = []  # Lista para almacenar errores en cada iteración\n",
    "    iters = []    # Lista para almacenar los números de iteración\n",
    "    x_prev = 0    # Valor inicial x0\n",
    "\n",
    "    for i in range(iterMax):\n",
    "        # Verifica si ya se cumple el criterio de convergencia\n",
    "        if abs(f(x_prev)) < tol:\n",
    "            break\n",
    "\n",
    "        # Primer paso: predictor zn usando Newton-Raphson\n",
    "        z_n = x_prev - f(x_prev) / df(x_prev)\n",
    "        \n",
    "        # Cálculo del factor corrector H(xn, zn)\n",
    "        Hz = H(x_prev, z_n)\n",
    "\n",
    "        # Segundo paso: corrector xn+1 usando el valor de H\n",
    "        x_n = z_n - (Hz * f(z_n)) / df(x_prev)\n",
    "\n",
    "        # Cálculo del error actual\n",
    "        error = abs(f(x_n))\n",
    "        errores.append(error)\n",
    "        iters.append(i + 1)\n",
    "\n",
    "        # Verificación del criterio de parada\n",
    "        if error < tol:\n",
    "            return x_n, errores, iters\n",
    "        \n",
    "        # Actualización del valor previo\n",
    "        x_prev = x_n\n",
    "\n",
    "    # Retorna el valor alcanzado tras iterMax si no converge antes\n",
    "    return x_prev, errores, iters\n",
    "\n",
    "# Ejecución del método\n",
    "x, errores, iters = NHO()\n",
    "\n",
    "# Gráfica de error vs. iteraciones\n",
    "plt.plot(iters, errores, marker='o')\n",
    "plt.yscale('log')  # Escala logarítmica en el eje Y para visualizar convergencia\n",
    "plt.xlabel(\"Iteraciones\")\n",
    "plt.ylabel(\"Error\")\n",
    "plt.title(\"Aproximación de la solución usando el método NHO\")\n",
    "plt.grid(True)\n",
    "plt.show()\n",
    "\n",
    "\n"
   ]
  },
  {
   "cell_type": "code",
   "execution_count": 3,
   "id": "40aac161-7d99-4103-939d-dea380489051",
   "metadata": {
    "kernel": "Python3",
    "tags": []
   },
   "outputs": [
    {
     "data": {
      "image/png": "[encoded data removed]",
      "text/plain": [
       "<Figure size 640x480 with 1 Axes>"
      ]
     },
     "metadata": {},
     "output_type": "display_data"
    }
   ],
   "source": [
    "# Pregunta 6 #\n",
    "### Pseudoinversa ###\n",
    "%use python3\n",
    "\n",
    "# ------------------------------------------------------------------------------\n",
    "# MÉTODO ITERATIVO PARA LA PSEUDOINVERSA DE LI Y LI - IMPLEMENTACIÓN EN PYTHON\n",
    "# ------------------------------------------------------------------------------\n",
    "# Este script implementa el método iterativo propuesto por W. Li y Z. Li para\n",
    "# calcular la pseudoinversa de una matriz A ∈ ℝ^{m×n}, generalizando el método\n",
    "# de Newton-Schulz. Este método permite aproximar la pseudoinversa incluso si A\n",
    "# no es cuadrada, mediante la siguiente fórmula iterativa:\n",
    "#\n",
    "#     X_{k+1} = X_k * SUM_{q=1}^{p} [ (-1)^{q-1} * p! / (q!(p-q)!) * (A X_k)^{q-1} ]\n",
    "#\n",
    "# El valor de p es un parámetro que afecta el grado del método. Se mide el número\n",
    "# de iteraciones necesarias para alcanzar el criterio de convergencia:\n",
    "#\n",
    "#     || A X_k A − A ||_Frobenius < 1e-5\n",
    "#\n",
    "# Finalmente, se grafica el valor de p vs. el número de iteraciones necesarias.\n",
    "# ------------------------------------------------------------------------------\n",
    "import numpy as np\n",
    "import matplotlib.pyplot as plt\n",
    "import math\n",
    "\n",
    "# Parámetros globales\n",
    "tol = 1e-5\n",
    "max_iter = 100\n",
    "\n",
    "# Construcción de la matriz A de tamaño 45x30 con elementos A[i,j] = (i+1)^2 + (j+1)^2\n",
    "def A():\n",
    "    A = np.zeros((45, 30))\n",
    "    for i in range(45):\n",
    "        for j in range(30):\n",
    "            A[i, j] = (i + 1)**2 + (j + 1)**2\n",
    "    return A\n",
    "\n",
    "# Cálculo de la matriz inicial X_0 = A^T / ||A||²_2\n",
    "def X0(A):\n",
    "    norm_A2 = np.linalg.norm(A, 2)**2\n",
    "    return A.T / norm_A2\n",
    "\n",
    "# Método iterativo de Li y Li para aproximar la pseudoinversa de A\n",
    "def pseudo_inversa(A, p):\n",
    "    X = X0(A)        # Valor inicial X₀\n",
    "    iters = 0        # Contador de iteraciones\n",
    "\n",
    "    for _ in range(max_iter):\n",
    "        AX = A @ X   # Producto A*Xₖ\n",
    "        sumatoria = np.zeros_like(AX)  # Inicializa la sumatoria\n",
    "\n",
    "        # Cálculo del término sumatorio de orden p\n",
    "        for q in range(1, p + 1):\n",
    "            der = np.linalg.matrix_power(AX, q - 1)  # (AX)^{q-1}\n",
    "            num = (-1)**(q - 1) * math.factorial(p)\n",
    "            den = math.factorial(q) * math.factorial(p - q)\n",
    "            coef = num // den\n",
    "            sumatoria += coef * der\n",
    "\n",
    "        X_n = X @ sumatoria  # Actualización de X_{k+1}\n",
    "        iters += 1\n",
    "\n",
    "        # Verifica el criterio de convergencia\n",
    "        error = np.linalg.norm(A @ X_n @ A - A, \"fro\")\n",
    "        if error < tol:\n",
    "            break\n",
    "\n",
    "        X = X_n  # Actualiza X para la siguiente iteración\n",
    "\n",
    "    return iters, X  # Retorna el número de iteraciones y la pseudoinversa aproximada\n",
    "\n",
    "# Rango de valores de p a evaluar (de 1 a 10)\n",
    "ps = list(range(1, 11))\n",
    "resultados = []  # Lista para almacenar número de iteraciones para cada p\n",
    "\n",
    "# Evaluación del método para cada valor de p\n",
    "for p in ps:\n",
    "    num_iter, _ = pseudo_inversa(A(), p)\n",
    "    resultados.append(num_iter)\n",
    "\n",
    "# Gráfica: Valor de p vs. Número de iteraciones necesarias\n",
    "plt.plot(ps, resultados, marker='o')\n",
    "plt.xlabel(\"Valor de p\")\n",
    "plt.ylabel(\"Número de iteraciones\")\n",
    "plt.title(\"p vs Iteraciones (Método Pseudoinversa de Li y Li)\")\n",
    "plt.grid(True)\n",
    "plt.show()\n"
   ]
  },
  {
   "cell_type": "code",
   "execution_count": null,
   "id": "4a6c9765-7989-4450-8207-3862d9c102ab",
   "metadata": {
    "kernel": "SoS"
   },
   "outputs": [],
   "source": []
  }
 ],
 "metadata": {
  "kernelspec": {
   "display_name": "SoS",
   "language": "sos",
   "name": "sos"
  },
  "language_info": {
   "codemirror_mode": "sos",
   "file_extension": ".sos",
   "mimetype": "text/x-sos",
   "name": "sos",
   "nbconvert_exporter": "sos_notebook.converter.SoS_Exporter",
   "pygments_lexer": "sos"
  },
  "sos": {
   "kernels": [
    [
     "Octave",
     "octave",
     "Octave",
     "#dff8fb",
     ""
    ],
    [
     "Python3",
     "python3",
     "Python3",
     "#FFD91A",
     {
      "name": "ipython",
      "version": 3
     }
    ],
    [
     "SoS",
     "sos",
     "",
     "",
     "sos"
    ]
   ],
   "version": "0.24.0"
  }
 },
 "nbformat": 4,
 "nbformat_minor": 5
}
